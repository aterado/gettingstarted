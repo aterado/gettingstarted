{
 "cells": [
  {
   "cell_type": "code",
   "execution_count": 19,
   "metadata": {},
   "outputs": [],
   "source": [
    "# sasctl interface for importing models\n",
    "import sasctl.pzmm as pzmm\n",
    "from sasctl import Session\n",
    "from sasctl.services import model_repository as modelRepo\n",
    "\n",
    "import pandas as pd \n",
    "import os \n",
    "import numpy as np \n",
    "import getpass\n",
    "import matplotlib.pyplot as plt \n",
    "import seaborn as sns \n",
    "import getpass\n",
    "from pathlib import Path\n",
    "from sklearn.tree import DecisionTreeClassifier\n",
    "from sklearn.ensemble import RandomForestClassifier, GradientBoostingClassifier\n",
    "from sklearn.model_selection import train_test_split\n",
    "from sklearn.metrics import classification_report, confusion_matrix\n",
    "\n"
   ]
  },
  {
   "cell_type": "code",
   "execution_count": 2,
   "metadata": {},
   "outputs": [],
   "source": [
    "#import our Data\n",
    "hmeq = pd.read_csv('data/hmeq.csv',sep= ',')"
   ]
  },
  {
   "cell_type": "code",
   "execution_count": 3,
   "metadata": {},
   "outputs": [
    {
     "data": {
      "text/html": [
       "<div>\n",
       "<style scoped>\n",
       "    .dataframe tbody tr th:only-of-type {\n",
       "        vertical-align: middle;\n",
       "    }\n",
       "\n",
       "    .dataframe tbody tr th {\n",
       "        vertical-align: top;\n",
       "    }\n",
       "\n",
       "    .dataframe thead th {\n",
       "        text-align: right;\n",
       "    }\n",
       "</style>\n",
       "<table border=\"1\" class=\"dataframe\">\n",
       "  <thead>\n",
       "    <tr style=\"text-align: right;\">\n",
       "      <th></th>\n",
       "      <th>BAD</th>\n",
       "      <th>LOAN</th>\n",
       "      <th>MORTDUE</th>\n",
       "      <th>VALUE</th>\n",
       "      <th>REASON</th>\n",
       "      <th>JOB</th>\n",
       "      <th>YOJ</th>\n",
       "      <th>DEROG</th>\n",
       "      <th>DELINQ</th>\n",
       "      <th>CLAGE</th>\n",
       "      <th>NINQ</th>\n",
       "      <th>CLNO</th>\n",
       "      <th>DEBTINC</th>\n",
       "    </tr>\n",
       "  </thead>\n",
       "  <tbody>\n",
       "    <tr>\n",
       "      <th>0</th>\n",
       "      <td>1</td>\n",
       "      <td>1100</td>\n",
       "      <td>25860.0</td>\n",
       "      <td>39025.0</td>\n",
       "      <td>HomeImp</td>\n",
       "      <td>Other</td>\n",
       "      <td>10.5</td>\n",
       "      <td>0.0</td>\n",
       "      <td>0.0</td>\n",
       "      <td>94.366667</td>\n",
       "      <td>1.0</td>\n",
       "      <td>9.0</td>\n",
       "      <td>NaN</td>\n",
       "    </tr>\n",
       "    <tr>\n",
       "      <th>1</th>\n",
       "      <td>1</td>\n",
       "      <td>1300</td>\n",
       "      <td>70053.0</td>\n",
       "      <td>68400.0</td>\n",
       "      <td>HomeImp</td>\n",
       "      <td>Other</td>\n",
       "      <td>7.0</td>\n",
       "      <td>0.0</td>\n",
       "      <td>2.0</td>\n",
       "      <td>121.833333</td>\n",
       "      <td>0.0</td>\n",
       "      <td>14.0</td>\n",
       "      <td>NaN</td>\n",
       "    </tr>\n",
       "    <tr>\n",
       "      <th>2</th>\n",
       "      <td>1</td>\n",
       "      <td>1500</td>\n",
       "      <td>13500.0</td>\n",
       "      <td>16700.0</td>\n",
       "      <td>HomeImp</td>\n",
       "      <td>Other</td>\n",
       "      <td>4.0</td>\n",
       "      <td>0.0</td>\n",
       "      <td>0.0</td>\n",
       "      <td>149.466667</td>\n",
       "      <td>1.0</td>\n",
       "      <td>10.0</td>\n",
       "      <td>NaN</td>\n",
       "    </tr>\n",
       "    <tr>\n",
       "      <th>3</th>\n",
       "      <td>1</td>\n",
       "      <td>1500</td>\n",
       "      <td>NaN</td>\n",
       "      <td>NaN</td>\n",
       "      <td>NaN</td>\n",
       "      <td>NaN</td>\n",
       "      <td>NaN</td>\n",
       "      <td>NaN</td>\n",
       "      <td>NaN</td>\n",
       "      <td>NaN</td>\n",
       "      <td>NaN</td>\n",
       "      <td>NaN</td>\n",
       "      <td>NaN</td>\n",
       "    </tr>\n",
       "    <tr>\n",
       "      <th>4</th>\n",
       "      <td>0</td>\n",
       "      <td>1700</td>\n",
       "      <td>97800.0</td>\n",
       "      <td>112000.0</td>\n",
       "      <td>HomeImp</td>\n",
       "      <td>Office</td>\n",
       "      <td>3.0</td>\n",
       "      <td>0.0</td>\n",
       "      <td>0.0</td>\n",
       "      <td>93.333333</td>\n",
       "      <td>0.0</td>\n",
       "      <td>14.0</td>\n",
       "      <td>NaN</td>\n",
       "    </tr>\n",
       "  </tbody>\n",
       "</table>\n",
       "</div>"
      ],
      "text/plain": [
       "   BAD  LOAN  MORTDUE     VALUE   REASON     JOB   YOJ  DEROG  DELINQ  \\\n",
       "0    1  1100  25860.0   39025.0  HomeImp   Other  10.5    0.0     0.0   \n",
       "1    1  1300  70053.0   68400.0  HomeImp   Other   7.0    0.0     2.0   \n",
       "2    1  1500  13500.0   16700.0  HomeImp   Other   4.0    0.0     0.0   \n",
       "3    1  1500      NaN       NaN      NaN     NaN   NaN    NaN     NaN   \n",
       "4    0  1700  97800.0  112000.0  HomeImp  Office   3.0    0.0     0.0   \n",
       "\n",
       "        CLAGE  NINQ  CLNO  DEBTINC  \n",
       "0   94.366667   1.0   9.0      NaN  \n",
       "1  121.833333   0.0  14.0      NaN  \n",
       "2  149.466667   1.0  10.0      NaN  \n",
       "3         NaN   NaN   NaN      NaN  \n",
       "4   93.333333   0.0  14.0      NaN  "
      ]
     },
     "execution_count": 3,
     "metadata": {},
     "output_type": "execute_result"
    }
   ],
   "source": [
    "hmeq.head()"
   ]
  },
  {
   "cell_type": "code",
   "execution_count": 4,
   "metadata": {},
   "outputs": [
    {
     "data": {
      "image/png": "[encoded data removed]",
      "text/plain": [
       "<Figure size 1080x5400 with 140 Axes>"
      ]
     },
     "metadata": {
      "needs_background": "light"
     },
     "output_type": "display_data"
    }
   ],
   "source": [
    "hmeq.hist(figsize=(15,75), layout=(28, 5));"
   ]
  },
  {
   "cell_type": "code",
   "execution_count": 5,
   "metadata": {},
   "outputs": [
    {
     "data": {
      "text/plain": [
       "Index(['BAD', 'LOAN', 'MORTDUE', 'VALUE', 'REASON', 'JOB', 'YOJ', 'DEROG',\n",
       "       'DELINQ', 'CLAGE', 'NINQ', 'CLNO', 'DEBTINC'],\n",
       "      dtype='object')"
      ]
     },
     "execution_count": 5,
     "metadata": {},
     "output_type": "execute_result"
    }
   ],
   "source": [
    "hmeq.columns"
   ]
  },
  {
   "cell_type": "code",
   "execution_count": 8,
   "metadata": {},
   "outputs": [],
   "source": [
    "predictorColumns = ['LOAN', 'MORTDUE', 'VALUE', 'YOJ', 'DEROG', 'DELINQ', 'CLAGE', 'NINQ', 'CLNO', 'DEBTINC']\n",
    "\n",
    "targetColumn = 'BAD'\n",
    "x = hmeq[predictorColumns]\n",
    "y = hmeq[targetColumn]\n",
    "\n",
    "xTrain, xTest, yTrain, yTest = train_test_split(x, y, test_size=0.3, random_state=42)\n",
    "\n",
    "# For missing values, impute the data set's mean value\n",
    "xTest.fillna(xTest.mean(), inplace=True)\n",
    "xTrain.fillna(xTrain.mean(), inplace=True)\n"
   ]
  },
  {
   "cell_type": "code",
   "execution_count": 9,
   "metadata": {},
   "outputs": [],
   "source": [
    "treeModel = DecisionTreeClassifier(random_state=42, min_samples_leaf=25)\n",
    "treeModel = treeModel.fit(xTrain, yTrain)\n",
    "\n",
    "forestModel = RandomForestClassifier(random_state=42)\n",
    "forestModel = forestModel.fit(xTrain, yTrain)\n",
    "\n",
    "gradientModel = GradientBoostingClassifier(random_state=42)\n",
    "gradientModel = gradientModel.fit(xTrain, yTrain)"
   ]
  },
  {
   "cell_type": "code",
   "execution_count": 10,
   "metadata": {},
   "outputs": [
    {
     "data": {
      "text/html": [
       "<div>\n",
       "<style scoped>\n",
       "    .dataframe tbody tr th:only-of-type {\n",
       "        vertical-align: middle;\n",
       "    }\n",
       "\n",
       "    .dataframe tbody tr th {\n",
       "        vertical-align: top;\n",
       "    }\n",
       "\n",
       "    .dataframe thead th {\n",
       "        text-align: right;\n",
       "    }\n",
       "</style>\n",
       "<table border=\"1\" class=\"dataframe\">\n",
       "  <thead>\n",
       "    <tr style=\"text-align: right;\">\n",
       "      <th></th>\n",
       "      <th>DecisionTree</th>\n",
       "      <th>RandomForest</th>\n",
       "      <th>GradientBoosting</th>\n",
       "    </tr>\n",
       "  </thead>\n",
       "  <tbody>\n",
       "    <tr>\n",
       "      <th>DEBTINC</th>\n",
       "      <td>55.8%</td>\n",
       "      <td>25.29%</td>\n",
       "      <td>49.81%</td>\n",
       "    </tr>\n",
       "    <tr>\n",
       "      <th>DELINQ</th>\n",
       "      <td>16.7%</td>\n",
       "      <td>9.45%</td>\n",
       "      <td>13.91%</td>\n",
       "    </tr>\n",
       "    <tr>\n",
       "      <th>CLAGE</th>\n",
       "      <td>4.94%</td>\n",
       "      <td>10.77%</td>\n",
       "      <td>7.18%</td>\n",
       "    </tr>\n",
       "    <tr>\n",
       "      <th>LOAN</th>\n",
       "      <td>4.69%</td>\n",
       "      <td>9.84%</td>\n",
       "      <td>3.93%</td>\n",
       "    </tr>\n",
       "    <tr>\n",
       "      <th>DEROG</th>\n",
       "      <td>4.19%</td>\n",
       "      <td>7.06%</td>\n",
       "      <td>9.41%</td>\n",
       "    </tr>\n",
       "    <tr>\n",
       "      <th>CLNO</th>\n",
       "      <td>3.99%</td>\n",
       "      <td>8.31%</td>\n",
       "      <td>4.13%</td>\n",
       "    </tr>\n",
       "    <tr>\n",
       "      <th>MORTDUE</th>\n",
       "      <td>3.01%</td>\n",
       "      <td>8.5%</td>\n",
       "      <td>2.46%</td>\n",
       "    </tr>\n",
       "    <tr>\n",
       "      <th>NINQ</th>\n",
       "      <td>2.47%</td>\n",
       "      <td>4.77%</td>\n",
       "      <td>3.21%</td>\n",
       "    </tr>\n",
       "    <tr>\n",
       "      <th>VALUE</th>\n",
       "      <td>2.15%</td>\n",
       "      <td>9.23%</td>\n",
       "      <td>3.58%</td>\n",
       "    </tr>\n",
       "    <tr>\n",
       "      <th>YOJ</th>\n",
       "      <td>2.04%</td>\n",
       "      <td>6.79%</td>\n",
       "      <td>2.38%</td>\n",
       "    </tr>\n",
       "  </tbody>\n",
       "</table>\n",
       "</div>"
      ],
      "text/plain": [
       "        DecisionTree RandomForest GradientBoosting\n",
       "DEBTINC        55.8%       25.29%           49.81%\n",
       "DELINQ         16.7%        9.45%           13.91%\n",
       "CLAGE          4.94%       10.77%            7.18%\n",
       "LOAN           4.69%        9.84%            3.93%\n",
       "DEROG          4.19%        7.06%            9.41%\n",
       "CLNO           3.99%        8.31%            4.13%\n",
       "MORTDUE        3.01%         8.5%            2.46%\n",
       "NINQ           2.47%        4.77%            3.21%\n",
       "VALUE          2.15%        9.23%            3.58%\n",
       "YOJ            2.04%        6.79%            2.38%"
      ]
     },
     "execution_count": 10,
     "metadata": {},
     "output_type": "execute_result"
    }
   ],
   "source": [
    "def sortFeatureImportance(model, xData):\n",
    "    features = {}\n",
    "    for importance, name in sorted(zip(model.feature_importances_, xData.columns), reverse=True):\n",
    "        features[name] = str(np.round(importance*100, 2)) + '%'\n",
    "    return features\n",
    "\n",
    "importances = pd.DataFrame.from_dict(sortFeatureImportance(treeModel, xTrain), orient='index').rename(columns={0: 'DecisionTree'})\n",
    "importances['RandomForest'] = pd.DataFrame.from_dict(sortFeatureImportance(forestModel, xTrain), orient='index')\n",
    "importances['GradientBoosting'] = pd.DataFrame.from_dict(sortFeatureImportance(gradientModel, xTrain), orient='index')\n",
    "importances"
   ]
  },
  {
   "cell_type": "code",
   "execution_count": 11,
   "metadata": {},
   "outputs": [
    {
     "name": "stdout",
     "output_type": "stream",
     "text": [
      "[[1350   39]\n",
      " [ 274  125]]\n",
      "              precision    recall  f1-score   support\n",
      "\n",
      "           0       0.83      0.97      0.90      1389\n",
      "           1       0.76      0.31      0.44       399\n",
      "\n",
      "    accuracy                           0.82      1788\n",
      "   macro avg       0.80      0.64      0.67      1788\n",
      "weighted avg       0.82      0.82      0.80      1788\n",
      "\n",
      "Decision Tree Model Accuracy = 82.49%\n"
     ]
    }
   ],
   "source": [
    "yTreePredict = treeModel.predict(xTest)\n",
    "yTreeProba = treeModel.predict_proba(xTest)\n",
    "print(confusion_matrix(yTest, yTreePredict))\n",
    "print(classification_report(yTest, yTreePredict))\n",
    "print('Decision Tree Model Accuracy = ' + str(np.round(treeModel.score(xTest, yTest)*100,2)) + '%')"
   ]
  },
  {
   "cell_type": "code",
   "execution_count": 12,
   "metadata": {},
   "outputs": [
    {
     "name": "stdout",
     "output_type": "stream",
     "text": [
      "[[1387    2]\n",
      " [ 222  177]]\n",
      "              precision    recall  f1-score   support\n",
      "\n",
      "           0       0.86      1.00      0.93      1389\n",
      "           1       0.99      0.44      0.61       399\n",
      "\n",
      "    accuracy                           0.87      1788\n",
      "   macro avg       0.93      0.72      0.77      1788\n",
      "weighted avg       0.89      0.87      0.86      1788\n",
      "\n",
      "Random Forest Model Accuracy = 87.47%\n"
     ]
    }
   ],
   "source": [
    "yForestPredict = forestModel.predict(xTest)\n",
    "yForestProba = forestModel.predict_proba(xTest)\n",
    "print(confusion_matrix(yTest, yForestPredict))\n",
    "print(classification_report(yTest, yForestPredict))\n",
    "print('Random Forest Model Accuracy = ' + str(np.round(forestModel.score(xTest, yTest)*100,2)) + '%')"
   ]
  },
  {
   "cell_type": "code",
   "execution_count": 13,
   "metadata": {},
   "outputs": [
    {
     "name": "stdout",
     "output_type": "stream",
     "text": [
      "[[1389    0]\n",
      " [ 284  115]]\n",
      "              precision    recall  f1-score   support\n",
      "\n",
      "           0       0.83      1.00      0.91      1389\n",
      "           1       1.00      0.29      0.45       399\n",
      "\n",
      "    accuracy                           0.84      1788\n",
      "   macro avg       0.92      0.64      0.68      1788\n",
      "weighted avg       0.87      0.84      0.80      1788\n",
      "\n",
      "Gradient Boosting Model Accuracy = 84.12%\n"
     ]
    }
   ],
   "source": [
    "yGradientPredict = gradientModel.predict(xTest)\n",
    "yGradientProba = gradientModel.predict_proba(xTest)\n",
    "print(confusion_matrix(yTest, yGradientPredict))\n",
    "print(classification_report(yTest, yGradientPredict))\n",
    "print('Gradient Boosting Model Accuracy = ' + str(np.round(gradientModel.score(xTest, yTest)*100,2)) + '%')"
   ]
  },
  {
   "cell_type": "code",
   "execution_count": 15,
   "metadata": {},
   "outputs": [],
   "source": [
    "modelPrefix = ['DecisionTreeClassifier', 'RandomForest', 'GradientBoosting']\n",
    "zipFolder = [Path.cwd() / 'data/DecisionTreeClassifier/',\n",
    "             Path.cwd() / 'data/RandomForest/',\n",
    "             Path.cwd() / 'data/GradientBoosting']\n",
    "model = [treeModel, forestModel, gradientModel]\n",
    "\n",
    "for (m, prefix, path) in zip(model, modelPrefix, zipFolder):\n",
    "    pzmm.PickleModel.pickleTrainedModel(_, m, prefix, path)"
   ]
  },
  {
   "cell_type": "code",
   "execution_count": 17,
   "metadata": {},
   "outputs": [],
   "source": [
    "def writeJSONFiles(data, predict, target, zipFolder, yTrain, modelPrefix):\n",
    "    J = pzmm.JSONFiles()\n",
    "    \n",
    "    # Write input variable mapping to a json file\n",
    "    J.writeVarJSON(data[predict], isInput=True, jPath=zipFolder)\n",
    "    \n",
    "    # Set output variables and assign an event threshold, then write output variable mapping\n",
    "    outputVar = pd.DataFrame(columns=['EM_EVENTPROBABILITY', 'EM_CLASSIFICATION'])\n",
    "    outputVar['EM_CLASSIFICATION'] = yTrain.astype('category').cat.categories.astype('str')\n",
    "    outputVar['EM_EVENTPROBABILITY'] = 0.5 # Event threshold\n",
    "    J.writeVarJSON(outputVar, isInput=False, jPath=zipFolder)\n",
    "    \n",
    "    # Write model properties to a json file\n",
    "    J.writeModelPropertiesJSON(modelName=modelPrefix,\n",
    "                               modelDesc='',\n",
    "                               targetVariable=target,\n",
    "                               modelType='',\n",
    "                               modelPredictors=predict,\n",
    "                               targetEvent=1,\n",
    "                               numTargetCategories=1,\n",
    "                               eventProbVar='EM_EVENTPROBABILITY',\n",
    "                               jPath=zipFolder,\n",
    "                               modeler='alex')\n",
    "    \n",
    "    # Write model metadata to a json file\n",
    "    J.writeFileMetadataJSON(modelPrefix, jPath=zipFolder)\n",
    "\n",
    "for (prefix, path) in zip(modelPrefix, zipFolder):\n",
    "    writeJSONFiles(hmeq, predictorColumns, targetColumn, path, yTrain, prefix)"
   ]
  },
  {
   "cell_type": "code",
   "execution_count": 22,
   "metadata": {},
   "outputs": [],
   "source": [
    "def writeModelStats(xTrain, yTrain, testProba, yTest, model, target, zipFolder, conn):\n",
    "    J = pzmm.JSONFiles()\n",
    "    \n",
    "    # Calculate train predictions\n",
    "    trainProba = model.predict_proba(xTrain)\n",
    "    \n",
    "    # Assign data to lists of actual and predicted values\n",
    "    trainData = pd.concat([yTrain.reset_index(drop=True), pd.Series(data=trainProba[:,1])], axis=1)\n",
    "    testData = pd.concat([yTest.reset_index(drop=True), pd.Series(data=testProba[:,1])], axis=1)\n",
    "    \n",
    "    # Calculate the model statistics and write to json files\n",
    "    J.calculateFitStat(trainData=trainData, testData=testData, jPath=zipFolder)\n",
    "    J.generateROCLiftStat(target, 1, conn, trainData=trainData, testData=testData, jPath=zipFolder)\n",
    "    \n",
    "username = 'username'\n",
    "password = '*****'\n",
    "host = 'yoururlhere.com'\n",
    "sess = Session(host, username, password, protocol='https')\n",
    "conn = sess.as_swat()\n",
    "\n",
    "testProba = [yTreeProba, yForestProba, yGradientProba]\n",
    "for (m, proba, path) in zip(model, testProba, zipFolder):\n",
    "    writeModelStats(xTrain, yTrain, proba, yTest, m, targetColumn, path, conn)"
   ]
  },
  {
   "cell_type": "code",
   "execution_count": 23,
   "metadata": {},
   "outputs": [],
   "source": [
    "S = pzmm.ScoreCode()\n",
    "for (prefix, path) in zip(modelPrefix, zipFolder):\n",
    "    S.writeScoreCode(x, y, prefix,\n",
    "                     '{}.predict({})', prefix + '.pickle',\n",
    "                     pyPath=path)\n",
    "    zipIOFile = pzmm.ZipModel.zipFiles(_, path, prefix)\n",
    "    with sess:\n",
    "        modelReponse = modelRepo.import_model_from_zip(prefix, 'Risk - Home Loan Default', zipIOFile)"
   ]
  }
 ],
 "metadata": {
  "kernelspec": {
   "display_name": "Python 3",
   "language": "python",
   "name": "python3"
  },
  "language_info": {
   "codemirror_mode": {
    "name": "ipython",
    "version": 3
   },
   "file_extension": ".py",
   "mimetype": "text/x-python",
   "name": "python",
   "nbconvert_exporter": "python",
   "pygments_lexer": "ipython3",
   "version": "3.7.6"
  }
 },
 "nbformat": 4,
 "nbformat_minor": 4
}